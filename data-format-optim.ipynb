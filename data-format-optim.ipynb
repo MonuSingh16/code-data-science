{
 "cells": [
  {
   "cell_type": "markdown",
   "id": "8cd09fff",
   "metadata": {},
   "source": [
    "# Daily Dose of Data Science\n",
    "\n",
    "Post: [The Most Overlooked Source of Optimization in Data Pipelines](https://www.blog.dailydoseofds.com/p/the-most-overlooked-source-of-optimization)\n",
    "\n",
    "Author: Avi Chawla"
   ]
  },
  {
   "cell_type": "markdown",
   "id": "d669537e",
   "metadata": {},
   "source": [
    "## Imports"
   ]
  },
  {
   "cell_type": "code",
   "execution_count": null,
   "id": "93e9e132",
   "metadata": {},
   "outputs": [],
   "source": [
    "import pandas as pd\n",
    "import numpy as np\n",
    "import random\n",
    "import string\n"
   ]
  },
  {
   "cell_type": "markdown",
   "id": "86432e6b",
   "metadata": {},
   "source": [
    "## Numeric data"
   ]
  },
  {
   "cell_type": "code",
   "execution_count": null,
   "id": "8f044c04",
   "metadata": {},
   "outputs": [],
   "source": [
    "# Define the number of rows and columns\n",
    "num_rows = 1000000\n",
    "num_columns = 20\n",
    "\n",
    "# Create a dictionary to store column data\n",
    "data = {}\n",
    "\n",
    "# Generate random numerical values for each column\n",
    "for i in range(num_columns):\n",
    "    column_name = f\"column_{i+1}\"\n",
    "    data[column_name] = np.random.randint(0, 100001, size=num_rows)\n",
    "\n",
    "# Create the DataFrame\n",
    "df = pd.DataFrame(data)"
   ]
  },
  {
   "cell_type": "markdown",
   "id": "5da3a81b",
   "metadata": {},
   "source": [
    "### CSV save run-time"
   ]
  },
  {
   "cell_type": "code",
   "execution_count": null,
   "id": "93136614",
   "metadata": {},
   "outputs": [],
   "source": [
    "%%timeit \n",
    "\n",
    "df.to_csv(\"data.csv\", index=False)"
   ]
  },
  {
   "cell_type": "markdown",
   "id": "344ace47",
   "metadata": {},
   "source": [
    "### Pickle save run-time"
   ]
  },
  {
   "cell_type": "code",
   "execution_count": null,
   "id": "82ded1e5",
   "metadata": {},
   "outputs": [],
   "source": [
    "%%timeit \n",
    "\n",
    "df.to_pickle(\"data.pickle\")"
   ]
  },
  {
   "cell_type": "markdown",
   "id": "5f860407",
   "metadata": {},
   "source": [
    "### Parquet save run-time"
   ]
  },
  {
   "cell_type": "code",
   "execution_count": null,
   "id": "419c68e0",
   "metadata": {},
   "outputs": [],
   "source": [
    "%%timeit \n",
    "\n",
    "df.to_parquet(\"data.parquet\")"
   ]
  },
  {
   "cell_type": "markdown",
   "id": "9d1b9e7f",
   "metadata": {},
   "source": [
    "### JSON save run-time"
   ]
  },
  {
   "cell_type": "code",
   "execution_count": null,
   "id": "bd01985b",
   "metadata": {},
   "outputs": [],
   "source": [
    "%%timeit \n",
    "\n",
    "df.to_json(\"data.json\")"
   ]
  },
  {
   "cell_type": "markdown",
   "id": "f4a34c8d",
   "metadata": {},
   "source": [
    "### Feather save run-time"
   ]
  },
  {
   "cell_type": "code",
   "execution_count": null,
   "id": "58f89652",
   "metadata": {},
   "outputs": [],
   "source": [
    "%%timeit \n",
    "\n",
    "df.to_feather(\"data.feather\")"
   ]
  },
  {
   "cell_type": "markdown",
   "id": "84f0d946",
   "metadata": {},
   "source": [
    "### CSV load run-time"
   ]
  },
  {
   "cell_type": "code",
   "execution_count": null,
   "id": "2ec16cd7",
   "metadata": {},
   "outputs": [],
   "source": [
    "%%timeit \n",
    "\n",
    "df = pd.read_csv(\"data.csv\")"
   ]
  },
  {
   "cell_type": "markdown",
   "id": "a16c5a9a",
   "metadata": {},
   "source": [
    "### Pickle load run-time"
   ]
  },
  {
   "cell_type": "code",
   "execution_count": null,
   "id": "6a403efe",
   "metadata": {},
   "outputs": [],
   "source": [
    "%%timeit \n",
    "\n",
    "df = pd.read_pickle(\"data.pickle\")"
   ]
  },
  {
   "cell_type": "markdown",
   "id": "5a95ac16",
   "metadata": {},
   "source": [
    "### Parquet load run-time"
   ]
  },
  {
   "cell_type": "code",
   "execution_count": null,
   "id": "bbde5fc7",
   "metadata": {},
   "outputs": [],
   "source": [
    "%%timeit \n",
    "\n",
    "df = pd.read_parquet(\"data.parquet\")"
   ]
  },
  {
   "cell_type": "markdown",
   "id": "3b84615c",
   "metadata": {},
   "source": [
    "### JSON load run-time"
   ]
  },
  {
   "cell_type": "code",
   "execution_count": null,
   "id": "7c1112c5",
   "metadata": {},
   "outputs": [],
   "source": [
    "%%timeit \n",
    "\n",
    "df = pd.read_json(\"data.json\")"
   ]
  },
  {
   "cell_type": "markdown",
   "id": "5fca06f5",
   "metadata": {},
   "source": [
    "### Feather load run-time"
   ]
  },
  {
   "cell_type": "code",
   "execution_count": null,
   "id": "20e54a70",
   "metadata": {
    "scrolled": true
   },
   "outputs": [],
   "source": [
    "%%timeit \n",
    "\n",
    "df = pd.read_feather(\"data.feather\")"
   ]
  },
  {
   "cell_type": "markdown",
   "id": "9612159e",
   "metadata": {},
   "source": [
    "## Mixed data"
   ]
  },
  {
   "cell_type": "code",
   "execution_count": null,
   "id": "b90f571b",
   "metadata": {},
   "outputs": [],
   "source": [
    "# Define the number of rows and columns\n",
    "num_rows = 1000000\n",
    "num_numeric_columns = 10\n",
    "num_string_columns = 10\n",
    "\n",
    "# Create a dictionary to store column data\n",
    "data = {}\n",
    "\n",
    "# Generate random numerical values for numeric columns\n",
    "for i in range(num_numeric_columns):\n",
    "    column_name = f\"numeric_{i+1}\"\n",
    "    data[column_name] = np.random.randint(0, 100001, size=num_rows)\n",
    "\n",
    "# Generate random string values for string columns\n",
    "for i in range(num_string_columns):\n",
    "    column_name = f\"string_{i+1}\"\n",
    "    data[column_name] = [''.join(random.choices(string.ascii_letters, k=5)) for _ in range(num_rows)]\n",
    "\n",
    "# Create the DataFrame\n",
    "df = pd.DataFrame(data)"
   ]
  },
  {
   "cell_type": "markdown",
   "id": "b12de0cc",
   "metadata": {},
   "source": [
    "### CSV save run-time"
   ]
  },
  {
   "cell_type": "code",
   "execution_count": null,
   "id": "8c1b4585",
   "metadata": {},
   "outputs": [],
   "source": [
    "%%timeit \n",
    "\n",
    "df.to_csv(\"data_string.csv\", index=False)"
   ]
  },
  {
   "cell_type": "markdown",
   "id": "3bd03f61",
   "metadata": {},
   "source": [
    "### Pickle save run-time"
   ]
  },
  {
   "cell_type": "code",
   "execution_count": null,
   "id": "5149719a",
   "metadata": {},
   "outputs": [],
   "source": [
    "%%timeit \n",
    "\n",
    "df.to_pickle(\"data_string.pickle\")"
   ]
  },
  {
   "cell_type": "markdown",
   "id": "e4eb4065",
   "metadata": {},
   "source": [
    "### Parquet save run-time"
   ]
  },
  {
   "cell_type": "code",
   "execution_count": null,
   "id": "08eeffb1",
   "metadata": {},
   "outputs": [],
   "source": [
    "%%timeit \n",
    "\n",
    "df.to_parquet(\"data_string.parquet\")"
   ]
  },
  {
   "cell_type": "markdown",
   "id": "6c4a9602",
   "metadata": {},
   "source": [
    "### JSON save run-time"
   ]
  },
  {
   "cell_type": "code",
   "execution_count": null,
   "id": "733b8be6",
   "metadata": {},
   "outputs": [],
   "source": [
    "%%timeit \n",
    "\n",
    "df.to_json(\"data_string.json\")"
   ]
  },
  {
   "cell_type": "markdown",
   "id": "e42656ef",
   "metadata": {},
   "source": [
    "### Feather save run-time"
   ]
  },
  {
   "cell_type": "code",
   "execution_count": null,
   "id": "1cbd2482",
   "metadata": {},
   "outputs": [],
   "source": [
    "%%timeit \n",
    "\n",
    "df.to_feather(\"data_string.feather\")"
   ]
  },
  {
   "cell_type": "markdown",
   "id": "723c12af",
   "metadata": {},
   "source": [
    "### CSV load run-time"
   ]
  },
  {
   "cell_type": "code",
   "execution_count": null,
   "id": "00e8936f",
   "metadata": {},
   "outputs": [],
   "source": [
    "%%timeit \n",
    "\n",
    "df = pd.read_csv(\"data_string.csv\")"
   ]
  },
  {
   "cell_type": "markdown",
   "id": "a42d74c3",
   "metadata": {},
   "source": [
    "### Pickle load run-time"
   ]
  },
  {
   "cell_type": "code",
   "execution_count": null,
   "id": "8c05cbee",
   "metadata": {},
   "outputs": [],
   "source": [
    "%%timeit \n",
    "\n",
    "df = pd.read_pickle(\"data_string.pickle\")"
   ]
  },
  {
   "cell_type": "markdown",
   "id": "2507fa63",
   "metadata": {},
   "source": [
    "### Parquet load run-time"
   ]
  },
  {
   "cell_type": "code",
   "execution_count": null,
   "id": "10779640",
   "metadata": {},
   "outputs": [],
   "source": [
    "%%timeit \n",
    "\n",
    "df = pd.read_parquet(\"data_string.parquet\")"
   ]
  },
  {
   "cell_type": "markdown",
   "id": "287eae43",
   "metadata": {},
   "source": [
    "### JSON load run-time"
   ]
  },
  {
   "cell_type": "code",
   "execution_count": null,
   "id": "a6b368d4",
   "metadata": {},
   "outputs": [],
   "source": [
    "%%timeit \n",
    "\n",
    "df = pd.read_json(\"data_string.json\")"
   ]
  },
  {
   "cell_type": "markdown",
   "id": "987fd776",
   "metadata": {},
   "source": [
    "### Feather load run-time"
   ]
  },
  {
   "cell_type": "code",
   "execution_count": null,
   "id": "4247c233",
   "metadata": {
    "scrolled": true
   },
   "outputs": [],
   "source": [
    "%%timeit \n",
    "\n",
    "df = pd.read_feather(\"data_string.feather\")"
   ]
  }
 ],
 "metadata": {
  "kernelspec": {
   "display_name": "Python 3 (ipykernel)",
   "language": "python",
   "name": "python3"
  },
  "language_info": {
   "codemirror_mode": {
    "name": "ipython",
    "version": 3
   },
   "file_extension": ".py",
   "mimetype": "text/x-python",
   "name": "python",
   "nbconvert_exporter": "python",
   "pygments_lexer": "ipython3",
   "version": "3.9.13"
  },
  "toc": {
   "base_numbering": 1,
   "nav_menu": {},
   "number_sections": true,
   "sideBar": true,
   "skip_h1_title": false,
   "title_cell": "Table of Contents",
   "title_sidebar": "Contents",
   "toc_cell": false,
   "toc_position": {},
   "toc_section_display": true,
   "toc_window_display": false
  }
 },
 "nbformat": 4,
 "nbformat_minor": 5
}
